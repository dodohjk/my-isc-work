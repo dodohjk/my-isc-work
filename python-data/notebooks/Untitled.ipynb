{
 "cells": [
  {
   "cell_type": "markdown",
   "id": "ee2a5a4a-4b72-4ef5-90b3-5fc25a603b91",
   "metadata": {},
   "source": [
    "# Sandbox \n",
    "\n",
    "## isc 2 working with data in python\n",
    "\n",
    "### date Wednesday 2023.11.15 "
   ]
  },
  {
   "cell_type": "code",
   "execution_count": 2,
   "id": "9112dba7-f011-4459-a2d1-84694a9fb9e7",
   "metadata": {},
   "outputs": [],
   "source": [
    "import numpy as np"
   ]
  },
  {
   "cell_type": "code",
   "execution_count": 3,
   "id": "a0ddd830-abaa-4a89-bf4c-25fbc52dc818",
   "metadata": {},
   "outputs": [
    {
     "data": {
      "text/plain": [
       "Generator(PCG64) at 0x7FEA8C440C80"
      ]
     },
     "execution_count": 3,
     "metadata": {},
     "output_type": "execute_result"
    }
   ],
   "source": [
    "rng = np.random.default_rng()\n",
    "rng"
   ]
  },
  {
   "cell_type": "code",
   "execution_count": 6,
   "id": "43d2cd29-1333-48de-84fb-0ec1448e6db5",
   "metadata": {},
   "outputs": [],
   "source": [
    "hjk = rng.integers(low=0, high=12, size=12).reshape(3,4)  "
   ]
  },
  {
   "cell_type": "code",
   "execution_count": 7,
   "id": "a6f0fe0f-97c4-40d4-8714-6e5067d9bc6b",
   "metadata": {},
   "outputs": [
    {
     "data": {
      "text/plain": [
       "array([[ 4,  1,  8,  8],\n",
       "       [ 3,  1, 11, 10],\n",
       "       [ 5, 10,  5, 10]])"
      ]
     },
     "execution_count": 7,
     "metadata": {},
     "output_type": "execute_result"
    }
   ],
   "source": [
    "hjk"
   ]
  },
  {
   "cell_type": "code",
   "execution_count": null,
   "id": "8291634e-1416-4a26-9fd1-78ffd543a9d5",
   "metadata": {},
   "outputs": [],
   "source": []
  }
 ],
 "metadata": {
  "kernelspec": {
   "display_name": "Python 3 + Jaspy",
   "language": "python",
   "name": "jaspy"
  },
  "language_info": {
   "codemirror_mode": {
    "name": "ipython",
    "version": 3
   },
   "file_extension": ".py",
   "mimetype": "text/x-python",
   "name": "python",
   "nbconvert_exporter": "python",
   "pygments_lexer": "ipython3",
   "version": "3.10.5"
  }
 },
 "nbformat": 4,
 "nbformat_minor": 5
}
