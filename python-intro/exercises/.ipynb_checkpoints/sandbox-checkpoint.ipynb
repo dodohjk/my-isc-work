{
 "cells": [
  {
   "cell_type": "code",
   "execution_count": 1,
   "id": "11aa8be6-de9c-481b-aa12-634b0281867e",
   "metadata": {},
   "outputs": [
    {
     "ename": "NameError",
     "evalue": "name 'ajsdoasjdoasjd' is not defined",
     "output_type": "error",
     "traceback": [
      "\u001b[0;31m---------------------------------------------------------------------------\u001b[0m",
      "\u001b[0;31mNameError\u001b[0m                                 Traceback (most recent call last)",
      "Input \u001b[0;32mIn [1]\u001b[0m, in \u001b[0;36m<cell line: 1>\u001b[0;34m()\u001b[0m\n\u001b[0;32m----> 1\u001b[0m \u001b[38;5;28mprint\u001b[39m(\u001b[43majsdoasjdoasjd\u001b[49m)\n",
      "\u001b[0;31mNameError\u001b[0m: name 'ajsdoasjdoasjd' is not defined"
     ]
    }
   ],
   "source": [
    "print(ajsdoasjdoasjd)"
   ]
  },
  {
   "cell_type": "code",
   "execution_count": 4,
   "id": "3c635bf0-0a60-41d2-b79a-a794688074b0",
   "metadata": {},
   "outputs": [],
   "source": [
    "age =42\n",
    "name = 'Amhed'"
   ]
  },
  {
   "cell_type": "code",
   "execution_count": 5,
   "id": "d16b6ae2-25d8-40e3-84a4-329944b9ae7f",
   "metadata": {},
   "outputs": [
    {
     "name": "stdout",
     "output_type": "stream",
     "text": [
      "Amhed is 42 years old\n"
     ]
    }
   ],
   "source": [
    "print(name, 'is', age, 'years old')"
   ]
  },
  {
   "cell_type": "code",
   "execution_count": 8,
   "id": "e5c842db-4066-4894-bb91-a095386e0233",
   "metadata": {},
   "outputs": [
    {
     "name": "stdout",
     "output_type": "stream",
     "text": [
      "al-Kahawazi\n"
     ]
    }
   ],
   "source": [
    "print(lastname)"
   ]
  },
  {
   "cell_type": "code",
   "execution_count": 7,
   "id": "6179680c-8b5f-4c67-9834-2bc35101a046",
   "metadata": {},
   "outputs": [],
   "source": [
    "lastname = 'al-Kahawazi'"
   ]
  },
  {
   "cell_type": "code",
   "execution_count": 9,
   "id": "eb75c358-9a42-4897-8f7e-3e7eed5710d8",
   "metadata": {},
   "outputs": [
    {
     "name": "stdout",
     "output_type": "stream",
     "text": [
      "Age in three years will be: 45\n"
     ]
    }
   ],
   "source": [
    "print('Age in three years will be:', age+3)"
   ]
  },
  {
   "cell_type": "code",
   "execution_count": 11,
   "id": "0044bf5f-444b-4bd6-b7c8-7ab26683e72e",
   "metadata": {},
   "outputs": [],
   "source": [
    "atom_name = 'helium'"
   ]
  },
  {
   "cell_type": "code",
   "execution_count": 12,
   "id": "b89a1098-6d38-4515-a9b8-baebde6f3f43",
   "metadata": {},
   "outputs": [
    {
     "name": "stdout",
     "output_type": "stream",
     "text": [
      "h\n"
     ]
    }
   ],
   "source": [
    "print(atom_name[0])"
   ]
  },
  {
   "cell_type": "code",
   "execution_count": 15,
   "id": "443c4eaa-8311-40c4-abfe-b82b33e1342d",
   "metadata": {},
   "outputs": [
    {
     "ename": "IndexError",
     "evalue": "string index out of range",
     "output_type": "error",
     "traceback": [
      "\u001b[0;31m---------------------------------------------------------------------------\u001b[0m",
      "\u001b[0;31mIndexError\u001b[0m                                Traceback (most recent call last)",
      "Input \u001b[0;32mIn [15]\u001b[0m, in \u001b[0;36m<cell line: 1>\u001b[0;34m()\u001b[0m\n\u001b[0;32m----> 1\u001b[0m \u001b[43matom_name\u001b[49m\u001b[43m[\u001b[49m\u001b[38;5;241;43m12\u001b[39;49m\u001b[43m]\u001b[49m\n",
      "\u001b[0;31mIndexError\u001b[0m: string index out of range"
     ]
    }
   ],
   "source": [
    "atom_name[12]"
   ]
  },
  {
   "cell_type": "code",
   "execution_count": 18,
   "id": "af8521b3-c023-4294-b4ea-f3f281e7b83c",
   "metadata": {},
   "outputs": [
    {
     "data": {
      "text/plain": [
       "False"
      ]
     },
     "execution_count": 18,
     "metadata": {},
     "output_type": "execute_result"
    }
   ],
   "source": [
    "1/3+1/2 == 5/6"
   ]
  },
  {
   "cell_type": "code",
   "execution_count": 21,
   "id": "2c788b82-8b23-477a-ae17-518a8e883fef",
   "metadata": {},
   "outputs": [
    {
     "data": {
      "text/plain": [
       "(0.3333333333333333, 0.5, 0.8333333333333333, 0.8333333333333334)"
      ]
     },
     "execution_count": 21,
     "metadata": {},
     "output_type": "execute_result"
    }
   ],
   "source": [
    "1/3,1/2,1/3+1/2,5/6"
   ]
  },
  {
   "cell_type": "code",
   "execution_count": 24,
   "id": "fe5a7b2d-4632-4ed8-921e-0011ed7f5e34",
   "metadata": {},
   "outputs": [
    {
     "data": {
      "text/plain": [
       "0.3333333333333333"
      ]
     },
     "execution_count": 24,
     "metadata": {},
     "output_type": "execute_result"
    }
   ],
   "source": [
    "1/6*2, \n",
    "1/3"
   ]
  },
  {
   "cell_type": "code",
   "execution_count": 26,
   "id": "6c07e660-9808-41a8-a192-1ff1f5acf4db",
   "metadata": {},
   "outputs": [
    {
     "ename": "SyntaxError",
     "evalue": "invalid decimal literal (829813022.py, line 1)",
     "output_type": "error",
     "traceback": [
      "\u001b[0;36m  Input \u001b[0;32mIn [26]\u001b[0;36m\u001b[0m\n\u001b[0;31m    a_complex_number = 1+2i\u001b[0m\n\u001b[0m                         ^\u001b[0m\n\u001b[0;31mSyntaxError\u001b[0m\u001b[0;31m:\u001b[0m invalid decimal literal\n"
     ]
    }
   ],
   "source": [
    "a_complex_number = 1+2i"
   ]
  },
  {
   "cell_type": "code",
   "execution_count": 27,
   "id": "3af7c153-0ea9-4582-a7fd-46a0b4f89632",
   "metadata": {},
   "outputs": [
    {
     "name": "stdout",
     "output_type": "stream",
     "text": [
      "Object `sort` not found.\n"
     ]
    }
   ],
   "source": [
    "sort?"
   ]
  },
  {
   "cell_type": "code",
   "execution_count": 33,
   "id": "54804c4e-ab21-471a-a5ce-abd51974fcb9",
   "metadata": {},
   "outputs": [
    {
     "data": {
      "text/plain": [
       "'a'"
      ]
     },
     "execution_count": 33,
     "metadata": {},
     "output_type": "execute_result"
    }
   ],
   "source": [
    "min('helloqwertyuiopasdfghjklzxcvbnm')"
   ]
  },
  {
   "cell_type": "code",
   "execution_count": 38,
   "id": "964d1ed8-fbc3-4ed3-9fc9-ec6e1f74b706",
   "metadata": {},
   "outputs": [
    {
     "data": {
      "text/plain": [
       "4.45"
      ]
     },
     "execution_count": 38,
     "metadata": {},
     "output_type": "execute_result"
    }
   ],
   "source": [
    "round(4.45361, 2 )"
   ]
  },
  {
   "cell_type": "code",
   "execution_count": 39,
   "id": "f52289c5-ca6c-4135-96d5-116bcc6c714f",
   "metadata": {},
   "outputs": [],
   "source": [
    "hjk = \"Hello Wolrd\""
   ]
  },
  {
   "cell_type": "code",
   "execution_count": 40,
   "id": "16761a6c-3ac8-48c1-8f25-67e7c69ec2ce",
   "metadata": {},
   "outputs": [
    {
     "data": {
      "text/plain": [
       "'hELLO wOLRD'"
      ]
     },
     "execution_count": 40,
     "metadata": {},
     "output_type": "execute_result"
    }
   ],
   "source": [
    "hjk.swapcase()"
   ]
  },
  {
   "cell_type": "code",
   "execution_count": 41,
   "id": "44a5d128-7d14-4fbe-be6f-0c4f20ffe191",
   "metadata": {},
   "outputs": [
    {
     "name": "stdout",
     "output_type": "stream",
     "text": [
      "Help on method-wrapper:\n",
      "\n",
      "__repr__ = <method-wrapper '__repr__' of str object>\n",
      "    Return repr(self).\n",
      "\n"
     ]
    }
   ],
   "source": [
    "help(hjk.__repr__)"
   ]
  },
  {
   "cell_type": "code",
   "execution_count": 15,
   "id": "fb9c3cf9-3d68-4798-9b77-d51622bd2730",
   "metadata": {},
   "outputs": [
    {
     "ename": "TypeError",
     "evalue": "'>' not supported between instances of 'NoneType' and 'int'",
     "output_type": "error",
     "traceback": [
      "\u001b[0;31m---------------------------------------------------------------------------\u001b[0m",
      "\u001b[0;31mTypeError\u001b[0m                                 Traceback (most recent call last)",
      "Input \u001b[0;32mIn [15]\u001b[0m, in \u001b[0;36m<cell line: 1>\u001b[0;34m()\u001b[0m\n\u001b[0;32m----> 1\u001b[0m \u001b[38;5;28;43mmax\u001b[39;49m\u001b[43m(\u001b[49m\u001b[38;5;241;43m1\u001b[39;49m\u001b[43m,\u001b[49m\u001b[38;5;241;43m2\u001b[39;49m\u001b[43m,\u001b[49m\u001b[43m \u001b[49m\u001b[38;5;28;43;01mNone\u001b[39;49;00m\u001b[43m)\u001b[49m\n",
      "\u001b[0;31mTypeError\u001b[0m: '>' not supported between instances of 'NoneType' and 'int'"
     ]
    }
   ],
   "source": [
    "max(1,2, None)"
   ]
  },
  {
   "cell_type": "code",
   "execution_count": 26,
   "id": "1cdf7de2-00a5-453e-a5cc-41ccccdcb936",
   "metadata": {},
   "outputs": [
    {
     "data": {
      "text/plain": [
       "'prtvy'"
      ]
     },
     "execution_count": 26,
     "metadata": {},
     "output_type": "execute_result"
    }
   ],
   "source": [
    "abc = \"abcdefghjklmnopqrstuvxyz\"\n",
    "\n",
    "abc[-10:-1:2]"
   ]
  },
  {
   "cell_type": "code",
   "execution_count": 34,
   "id": "95385448-2ca6-489d-97f2-dd4f10ab15fe",
   "metadata": {},
   "outputs": [],
   "source": [
    "abc = \"abcdefghjklmnopqrstuvxyz\"\n",
    "import numpy as np\n",
    "hjk=np.arange(1,27)"
   ]
  },
  {
   "cell_type": "code",
   "execution_count": 35,
   "id": "00c9eb2a-3fa8-4a03-b7c4-2a7038533674",
   "metadata": {},
   "outputs": [
    {
     "data": {
      "text/plain": [
       "array([ 1,  2,  3,  4,  5,  6,  7,  8,  9, 10, 11, 12, 13, 14, 15, 16, 17,\n",
       "       18, 19, 20, 21, 22, 23, 24, 25, 26])"
      ]
     },
     "execution_count": 35,
     "metadata": {},
     "output_type": "execute_result"
    }
   ],
   "source": [
    "hjk"
   ]
  },
  {
   "cell_type": "code",
   "execution_count": 37,
   "id": "0abe8b20-551b-4b72-86a3-f274c6109c32",
   "metadata": {},
   "outputs": [
    {
     "name": "stdout",
     "output_type": "stream",
     "text": [
      "<zip object at 0x7f20607a5c40>\n"
     ]
    }
   ],
   "source": [
    "print(zip(hjk,abc))"
   ]
  },
  {
   "cell_type": "code",
   "execution_count": null,
   "id": "72bef517-e1ba-4c37-bc0a-caeab3f7baf0",
   "metadata": {},
   "outputs": [],
   "source": []
  },
  {
   "cell_type": "code",
   "execution_count": null,
   "id": "d6721a11-4cbc-42e5-8566-7ac394d57d6f",
   "metadata": {},
   "outputs": [],
   "source": []
  }
 ],
 "metadata": {
  "kernelspec": {
   "display_name": "Python 3 + Jaspy",
   "language": "python",
   "name": "jaspy"
  },
  "language_info": {
   "codemirror_mode": {
    "name": "ipython",
    "version": 3
   },
   "file_extension": ".py",
   "mimetype": "text/x-python",
   "name": "python",
   "nbconvert_exporter": "python",
   "pygments_lexer": "ipython3",
   "version": "3.10.5"
  }
 },
 "nbformat": 4,
 "nbformat_minor": 5
}
