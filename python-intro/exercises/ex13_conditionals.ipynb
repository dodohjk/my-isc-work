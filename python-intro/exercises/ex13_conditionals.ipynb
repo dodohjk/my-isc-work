{
 "cells": [
  {
   "cell_type": "markdown",
   "id": "63b2332e-933d-4043-ac32-14a8af119baf",
   "metadata": {
    "editable": true,
    "slideshow": {
     "slide_type": ""
    },
    "tags": []
   },
   "source": [
    "# Exercise 13: Conditionals"
   ]
  },
  {
   "cell_type": "markdown",
   "id": "69274861-e984-4721-ab5c-f43a2c7e46f8",
   "metadata": {},
   "source": [
    "## Aim: Learn to use `if` and `else` statements."
   ]
  },
  {
   "cell_type": "markdown",
   "id": "31ffe77a-c4fb-4d9a-812d-e6104206427c",
   "metadata": {},
   "source": [
    "### Issues covered:\n",
    "- Taking a look at an `if` `else` block\n",
    "- Writing an `if` block\n",
    "- Writing an `if` `elif` block"
   ]
  },
  {
   "cell_type": "markdown",
   "id": "c2a5e099-c561-4224-b6d2-e5e270397718",
   "metadata": {},
   "source": [
    "## 1. Let's take a look at an `if` `else` block:"
   ]
  },
  {
   "cell_type": "markdown",
   "id": "844f7dc4-87d1-4e3e-bf2d-10355d580e36",
   "metadata": {},
   "source": [
    "Copy the code below and experiment with changing the values of the mass and acceleration:\n",
    "```\n",
    "mass = 0.5\n",
    "acceleration = 1.0\n",
    "force = mass * acceleration\n",
    "if force < 1:\n",
    "    print(\"Force is small.\")\n",
    "else:\n",
    "    print(\"Force is big.\")\n",
    "```"
   ]
  },
  {
   "cell_type": "code",
   "execution_count": 5,
   "id": "999eda00-c424-4fd7-9548-ed0ba46c2577",
   "metadata": {
    "editable": true,
    "slideshow": {
     "slide_type": ""
    },
    "tags": [
     "clear_answer_cell"
    ]
   },
   "outputs": [
    {
     "name": "stdout",
     "output_type": "stream",
     "text": [
      "Force is big. 1\n"
     ]
    }
   ],
   "source": [
    "mass = 1\n",
    "acceleration = 1\n",
    "force = mass * acceleration\n",
    "if force < 1:\n",
    "    print(\"Force is small.\", force)\n",
    "else:\n",
    "    print(\"Force is big.\", force)"
   ]
  },
  {
   "cell_type": "markdown",
   "id": "004c0c6c-df2d-4f96-8382-e66ef73698dc",
   "metadata": {},
   "source": [
    "What happens if you make the force exactly equal to 1?"
   ]
  },
  {
   "cell_type": "code",
   "execution_count": 2,
   "id": "cbd07c93-3500-4607-b218-187bc5f1daab",
   "metadata": {
    "editable": true,
    "execution": {
     "iopub.execute_input": "2023-10-23T10:35:13.070002Z",
     "iopub.status.busy": "2023-10-23T10:35:13.069553Z",
     "iopub.status.idle": "2023-10-23T10:35:13.084866Z",
     "shell.execute_reply": "2023-10-23T10:35:13.083762Z"
    },
    "slideshow": {
     "slide_type": ""
    },
    "tags": [
     "clear_answer_cell"
    ]
   },
   "outputs": [],
   "source": []
  },
  {
   "cell_type": "markdown",
   "id": "63cb4ca8-8fb8-46c8-afb0-2a1d3a2404b2",
   "metadata": {},
   "source": [
    "## 2. Let's write some `if` `elif` blocks"
   ]
  },
  {
   "cell_type": "markdown",
   "id": "2eaca519-41e6-4a09-8983-1dc2acf92f0a",
   "metadata": {},
   "source": [
    "Create a variable called `name` assigned the value 'Lisa'. Write an `if` block that prints 'plays a saxophone' if someone's name is Lisa."
   ]
  },
  {
   "cell_type": "code",
   "execution_count": 17,
   "id": "48ac187c-2880-41e8-863f-5114b6f6130e",
   "metadata": {},
   "outputs": [
    {
     "name": "stdout",
     "output_type": "stream",
     "text": [
      "Lisa plays a saxophone\n"
     ]
    }
   ],
   "source": [
    "name='Lisa'\n",
    "if name=='Lisa':\n",
    "    print(name, 'plays a saxophone')\n"
   ]
  },
  {
   "cell_type": "code",
   "execution_count": 15,
   "id": "54071743-1f65-4342-8257-218804cbd1b9",
   "metadata": {
    "editable": true,
    "slideshow": {
     "slide_type": ""
    },
    "tags": [
     "clear_answer_cell"
    ]
   },
   "outputs": [
    {
     "name": "stdout",
     "output_type": "stream",
     "text": [
      "0\n",
      "1\n",
      "2\n",
      "3\n",
      "the end\n"
     ]
    }
   ],
   "source": [
    "for i in range(4):\n",
    "    print(i)\n",
    "else:\n",
    "    print('the end')"
   ]
  },
  {
   "cell_type": "markdown",
   "id": "5bb0e24f-1e8a-4964-9894-ee0468f7b08b",
   "metadata": {},
   "source": [
    "Add an `elif` block that tests if `name` is Bart. If so, print 'rides a skateboard.'."
   ]
  },
  {
   "cell_type": "code",
   "execution_count": 18,
   "id": "2f28574f-a329-41bd-a6b3-4f7ca00f1d4a",
   "metadata": {
    "editable": true,
    "slideshow": {
     "slide_type": ""
    },
    "tags": [
     "clear_answer_cell"
    ]
   },
   "outputs": [
    {
     "name": "stdout",
     "output_type": "stream",
     "text": [
      "Lisa plays a saxophone\n"
     ]
    }
   ],
   "source": [
    "name='Lisa'\n",
    "if name=='Lisa':\n",
    "    print(name, 'plays a saxophone')\n",
    "elif name=='Bart':\n",
    "    print(name,'rides a skateboard.')"
   ]
  },
  {
   "cell_type": "markdown",
   "id": "ad742fce-1109-45ce-9a20-4be27e7c7fa0",
   "metadata": {},
   "source": [
    "Add an `else` block which prints 'lives in Springfield' for any other names given."
   ]
  },
  {
   "cell_type": "code",
   "execution_count": 19,
   "id": "44f213fe-0505-43ad-94d9-a22b39a3cf97",
   "metadata": {
    "editable": true,
    "slideshow": {
     "slide_type": ""
    },
    "tags": [
     "clear_answer_cell"
    ]
   },
   "outputs": [
    {
     "name": "stdout",
     "output_type": "stream",
     "text": [
      "Lisa plays a saxophone\n"
     ]
    }
   ],
   "source": [
    "name='Lisa'\n",
    "if name=='Lisa':\n",
    "    print(name, 'plays a saxophone')\n",
    "elif name=='Bart':\n",
    "    print(name,'rides a skateboard.')\n",
    "else:\n",
    "    print(name,'lives in Springfield')"
   ]
  },
  {
   "cell_type": "markdown",
   "id": "acdd7ef9-d4a9-4802-afcb-ce8539b0686f",
   "metadata": {},
   "source": [
    "## 3. Let's try a harder task of looping through some files"
   ]
  },
  {
   "cell_type": "markdown",
   "id": "85e88688-920c-48b5-8f39-8fe1513748cf",
   "metadata": {},
   "source": [
    "Write a program which loops through all files in the data folder and prints out the length of those with more than 10 records."
   ]
  },
  {
   "cell_type": "markdown",
   "id": "7a13df40-14fa-4335-bd1e-9abc7fd2a58c",
   "metadata": {},
   "source": [
    "Hint: Use the package `glob` to help loop through the data files, with the syntax `glob.glob(data/*.csv')`, and `pandas` to read the data as in previous exercises. We'll take a closer look at `glob` next lesson."
   ]
  },
  {
   "cell_type": "code",
   "execution_count": 31,
   "id": "56242465-e64d-49f6-a8fb-70e8704a2bf7",
   "metadata": {
    "editable": true,
    "slideshow": {
     "slide_type": ""
    },
    "tags": [
     "clear_answer_cell"
    ]
   },
   "outputs": [
    {
     "name": "stdout",
     "output_type": "stream",
     "text": [
      "       country  gdpPercap_1952  gdpPercap_1957  gdpPercap_1962  \\\n",
      "0    Australia     10039.59564     10949.64959     12217.22686   \n",
      "1  New Zealand     10556.57566     12247.39532     13175.67800   \n",
      "\n",
      "   gdpPercap_1967  gdpPercap_1972  gdpPercap_1977  gdpPercap_1982  \\\n",
      "0     14526.12465     16788.62948     18334.19751     19477.00928   \n",
      "1     14463.91893     16046.03728     16233.71770     17632.41040   \n",
      "\n",
      "   gdpPercap_1987  gdpPercap_1992  gdpPercap_1997  gdpPercap_2002  \\\n",
      "0     21888.88903     23424.76683     26997.93657     30687.75473   \n",
      "1     19007.19129     18363.32494     21050.41377     23189.80135   \n",
      "\n",
      "   gdpPercap_2007  \n",
      "0     34435.36744  \n",
      "1     25185.00911  \n",
      "                  country  gdpPercap_1952  gdpPercap_1957  gdpPercap_1962  \\\n",
      "0                 Albania     1601.056136     1942.284244     2312.888958   \n",
      "1                 Austria     6137.076492     8842.598030    10750.721110   \n",
      "2                 Belgium     8343.105127     9714.960623    10991.206760   \n",
      "3  Bosnia and Herzegovina      973.533195     1353.989176     1709.683679   \n",
      "4                Bulgaria     2444.286648     3008.670727     4254.337839   \n",
      "\n",
      "   gdpPercap_1967  gdpPercap_1972  gdpPercap_1977  gdpPercap_1982  \\\n",
      "0     2760.196931     3313.422188     3533.003910     3630.880722   \n",
      "1    12834.602400    16661.625600    19749.422300    21597.083620   \n",
      "2    13149.041190    16672.143560    19117.974480    20979.845890   \n",
      "3     2172.352423     2860.169750     3528.481305     4126.613157   \n",
      "4     5577.002800     6597.494398     7612.240438     8224.191647   \n",
      "\n",
      "   gdpPercap_1987  gdpPercap_1992  gdpPercap_1997  gdpPercap_2002  \\\n",
      "0     3738.932735     2497.437901     3193.054604     4604.211737   \n",
      "1    23687.826070    27042.018680    29095.920660    32417.607690   \n",
      "2    22525.563080    25575.570690    27561.196630    30485.883750   \n",
      "3     4314.114757     2546.781445     4766.355904     6018.975239   \n",
      "4     8239.854824     6302.623438     5970.388760     7696.777725   \n",
      "\n",
      "   gdpPercap_2007  \n",
      "0     5937.029526  \n",
      "1    36126.492700  \n",
      "2    33692.605080  \n",
      "3     7446.298803  \n",
      "4    10680.792820  \n",
      "   Unnamed: 0 continent    country  gdpPercap_1952  gdpPercap_1957  \\\n",
      "0           0  Americas  Argentina     5911.315053     6856.856212   \n",
      "1           1  Americas    Bolivia     2677.326347     2127.686326   \n",
      "2           2  Americas     Brazil     2108.944355     2487.365989   \n",
      "3           3  Americas     Canada    11367.161120    12489.950060   \n",
      "4           4  Americas      Chile     3939.978789     4315.622723   \n",
      "\n",
      "   gdpPercap_1962  gdpPercap_1967  gdpPercap_1972  gdpPercap_1977  \\\n",
      "0     7133.166023     8052.953021     9443.038526    10079.026740   \n",
      "1     2180.972546     2586.886053     2980.331339     3548.097832   \n",
      "2     3336.585802     3429.864357     4985.711467     6660.118654   \n",
      "3    13462.485550    16076.588030    18970.570860    22090.883060   \n",
      "4     4519.094331     5106.654313     5494.024437     4756.763836   \n",
      "\n",
      "   gdpPercap_1982  gdpPercap_1987  gdpPercap_1992  gdpPercap_1997  \\\n",
      "0     8997.897412     9139.671389     9308.418710    10967.281950   \n",
      "1     3156.510452     2753.691490     2961.699694     3326.143191   \n",
      "2     7030.835878     7807.095818     6950.283021     7957.980824   \n",
      "3    22898.792140    26626.515030    26342.884260    28954.925890   \n",
      "4     5095.665738     5547.063754     7596.125964    10118.053180   \n",
      "\n",
      "   gdpPercap_2002  gdpPercap_2007  \n",
      "0     8797.640716    12779.379640  \n",
      "1     3413.262690     3822.137084  \n",
      "2     8131.212843     9065.800825  \n",
      "3    33328.965070    36319.235010  \n",
      "4    10778.783850    13171.638850  \n",
      "         Date   Time  Temp  Rainfall\n",
      "0  2014-01-01  00:00  2.34      4.45\n",
      "1  2014-01-01  12:00  6.70      8.34\n",
      "2  2014-01-02  00:00 -1.34     10.25\n",
      "  continent    country  gdpPercap_1952  gdpPercap_1957  gdpPercap_1962  \\\n",
      "0  Americas  Argentina     5911.315053     6856.856212     7133.166023   \n",
      "1  Americas    Bolivia     2677.326347     2127.686326     2180.972546   \n",
      "2  Americas     Brazil     2108.944355     2487.365989     3336.585802   \n",
      "3  Americas     Canada    11367.161120    12489.950060    13462.485550   \n",
      "4  Americas      Chile     3939.978789     4315.622723     4519.094331   \n",
      "\n",
      "   gdpPercap_1967  gdpPercap_1972  gdpPercap_1977  gdpPercap_1982  \\\n",
      "0     8052.953021     9443.038526    10079.026740     8997.897412   \n",
      "1     2586.886053     2980.331339     3548.097832     3156.510452   \n",
      "2     3429.864357     4985.711467     6660.118654     7030.835878   \n",
      "3    16076.588030    18970.570860    22090.883060    22898.792140   \n",
      "4     5106.654313     5494.024437     4756.763836     5095.665738   \n",
      "\n",
      "   gdpPercap_1987  gdpPercap_1992  gdpPercap_1997  gdpPercap_2002  \\\n",
      "0     9139.671389     9308.418710    10967.281950     8797.640716   \n",
      "1     2753.691490     2961.699694     3326.143191     3413.262690   \n",
      "2     7807.095818     6950.283021     7957.980824     8131.212843   \n",
      "3    26626.515030    26342.884260    28954.925890    33328.965070   \n",
      "4     5547.063754     7596.125964    10118.053180    10778.783850   \n",
      "\n",
      "   gdpPercap_2007  \n",
      "0    12779.379640  \n",
      "1     3822.137084  \n",
      "2     9065.800825  \n",
      "3    36319.235010  \n",
      "4    13171.638850  \n",
      "   Unnamed: 0 continent    country  gdpPercap_1952  gdpPercap_1957  \\\n",
      "0           0  Americas  Argentina     5911.315053     6856.856212   \n",
      "1           1  Americas    Bolivia     2677.326347     2127.686326   \n",
      "2           2  Americas     Brazil     2108.944355     2487.365989   \n",
      "3           3  Americas     Canada    11367.161120    12489.950060   \n",
      "4           4  Americas      Chile     3939.978789     4315.622723   \n",
      "\n",
      "   gdpPercap_1962  gdpPercap_1967  gdpPercap_1972  gdpPercap_1977  \\\n",
      "0     7133.166023     8052.953021     9443.038526    10079.026740   \n",
      "1     2180.972546     2586.886053     2980.331339     3548.097832   \n",
      "2     3336.585802     3429.864357     4985.711467     6660.118654   \n",
      "3    13462.485550    16076.588030    18970.570860    22090.883060   \n",
      "4     4519.094331     5106.654313     5494.024437     4756.763836   \n",
      "\n",
      "   gdpPercap_1982  gdpPercap_1987  gdpPercap_1992  gdpPercap_1997  \\\n",
      "0     8997.897412     9139.671389     9308.418710    10967.281950   \n",
      "1     3156.510452     2753.691490     2961.699694     3326.143191   \n",
      "2     7030.835878     7807.095818     6950.283021     7957.980824   \n",
      "3    22898.792140    26626.515030    26342.884260    28954.925890   \n",
      "4     5095.665738     5547.063754     7596.125964    10118.053180   \n",
      "\n",
      "   gdpPercap_2002  gdpPercap_2007  \n",
      "0     8797.640716    12779.379640  \n",
      "1     3413.262690     3822.137084  \n",
      "2     8131.212843     9065.800825  \n",
      "3    33328.965070    36319.235010  \n",
      "4    10778.783850    13171.638850  \n",
      "finished reading files\n"
     ]
    }
   ],
   "source": [
    "import glob\n",
    "import pandas as pd\n",
    "\n",
    "for file in glob.glob('../data/*.csv'):\n",
    "    df = pd.read_csv(file)\n",
    "    print(df.head())\n",
    "else:\n",
    "    print('finished reading files')"
   ]
  },
  {
   "cell_type": "code",
   "execution_count": 23,
   "id": "413698c9-e846-43c5-af4c-7e2d4a63976d",
   "metadata": {},
   "outputs": [
    {
     "data": {
      "text/plain": [
       "['../data/oceania_gdp.csv',\n",
       " '../data/europe_gdp.csv',\n",
       " '../data/processed.csv',\n",
       " '../data/weather.csv',\n",
       " '../data/americas_gdp.csv',\n",
       " '../data/mydfexample.csv']"
      ]
     },
     "execution_count": 23,
     "metadata": {},
     "output_type": "execute_result"
    }
   ],
   "source": [
    "\n"
   ]
  },
  {
   "cell_type": "markdown",
   "id": "bd65b05b-3b64-4972-8627-e248c45c0e31",
   "metadata": {},
   "source": [
    "## 4. Extension: `while` loops."
   ]
  },
  {
   "cell_type": "markdown",
   "id": "88f3a8c4-78c3-4606-995c-0de9dc74a16e",
   "metadata": {},
   "source": [
    "There is another type of conditional called `while` that hasn't been covered. "
   ]
  },
  {
   "cell_type": "markdown",
   "id": "1958fdf2-6fde-4e2e-b6a9-35f23ec89716",
   "metadata": {},
   "source": [
    "1. You can create a `while` loop using:\n",
    "```\n",
    "i = 1\n",
    "while i < 10:\n",
    "    print(i)\n",
    "```\n",
    "But be careful - this loop never ends as the value of `i` doesn't change so will keep running forever! Make sure you know how to stop the cell running to escape. You can do this by hitting the stop button to interrupt the kernel. \n",
    "Copy this code below but add a line of code that increments `i` by 1 in the loop so that it doesn't run indefinetly."
   ]
  },
  {
   "cell_type": "markdown",
   "id": "42362e07-92c3-4f54-a901-938dfd2cef2b",
   "metadata": {},
   "source": [
    "2. Create a variable called `gases` assigned the list `['He', 'Ne', 'Ar', 'Kr']"
   ]
  },
  {
   "cell_type": "code",
   "execution_count": 33,
   "id": "7e4217d0-ea47-4323-a175-6363a4ba0557",
   "metadata": {
    "editable": true,
    "slideshow": {
     "slide_type": ""
    },
    "tags": [
     "clear_answer_cell"
    ]
   },
   "outputs": [],
   "source": [
    "gases = ['He', 'Ne', 'Ar', 'Kr']"
   ]
  },
  {
   "cell_type": "markdown",
   "id": "f7c68bd9-dda0-44ab-a23f-1b629c1fefea",
   "metadata": {},
   "source": [
    "3. Create a while loop which prints each item in the list.\n",
    "- Create a `count` variable which starts at 0.\n",
    "- Create the `while` loop.\n",
    "- Print `gases[count]`\n",
    "- Increment the count by 1."
   ]
  },
  {
   "cell_type": "code",
   "execution_count": 38,
   "id": "e66f9a26-4599-4e01-adf5-b1d0951299ee",
   "metadata": {
    "editable": true,
    "slideshow": {
     "slide_type": ""
    },
    "tags": [
     "clear_answer_cell"
    ]
   },
   "outputs": [
    {
     "name": "stdout",
     "output_type": "stream",
     "text": [
      "He\n",
      "Ne\n",
      "Ar\n"
     ]
    }
   ],
   "source": [
    "count=0\n",
    "tau =0\n",
    "while count<3:\n",
    "    print(gases[count])\n",
    "    count=count+1\n",
    "    tau = "
   ]
  }
 ],
 "metadata": {
  "kernelspec": {
   "display_name": "Python 3 + Jaspy",
   "language": "python",
   "name": "jaspy"
  },
  "language_info": {
   "codemirror_mode": {
    "name": "ipython",
    "version": 3
   },
   "file_extension": ".py",
   "mimetype": "text/x-python",
   "name": "python",
   "nbconvert_exporter": "python",
   "pygments_lexer": "ipython3",
   "version": "3.10.5"
  }
 },
 "nbformat": 4,
 "nbformat_minor": 5
}
